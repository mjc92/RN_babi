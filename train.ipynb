{
 "cells": [
  {
   "cell_type": "code",
   "execution_count": null,
   "metadata": {
    "collapsed": false
   },
   "outputs": [],
   "source": [
    "import random\n",
    "import torch\n",
    "import numpy as np\n",
    "from torch import nn,optim\n",
    "from model import RN\n",
    "from functions import from_batch\n",
    "from torch.autograd import Variable"
   ]
  },
  {
   "cell_type": "code",
   "execution_count": null,
   "metadata": {
    "collapsed": true
   },
   "outputs": [],
   "source": [
    "# define hyperparameters\n",
    "batch_size = 32\n",
    "embed_size = 64\n",
    "en_hidden_size = 32\n",
    "mlp_hidden_size = 256\n",
    "epochs = 30\n",
    "\n",
    "# optional: if you're starting off from a previous model\n",
    "startoff=10"
   ]
  },
  {
   "cell_type": "code",
   "execution_count": null,
   "metadata": {
    "collapsed": false
   },
   "outputs": [],
   "source": [
    "# load dataset\n",
    "with open('datasets/train_qa1.txt') as f:\n",
    "# with open('train_10k.txt') as f:\n",
    "    lines=f.readlines()\n",
    "if len(lines)%batch_size==0:\n",
    "    num_batches = int(len(lines)/batch_size)\n",
    "else:\n",
    "    num_batches = int(len(lines)/batch_size)\n",
    "\n",
    "# load vocabulary\n",
    "word2idx = np.load('word2idx.npy').item()\n",
    "idx2word = np.load('idx2word.npy').item()"
   ]
  },
  {
   "cell_type": "code",
   "execution_count": null,
   "metadata": {
    "collapsed": false
   },
   "outputs": [],
   "source": [
    "vocab_size = len(word2idx)"
   ]
  },
  {
   "cell_type": "code",
   "execution_count": null,
   "metadata": {
    "collapsed": false
   },
   "outputs": [],
   "source": [
    "# rn = torch.load('saved/rn_%d.pth' %startoff)\n",
    "rn = RN(vocab_size, embed_size, en_hidden_size, mlp_hidden_size)\n",
    "if torch.cuda.is_available():\n",
    "    rn = rn.cuda()\n",
    "opt = optim.Adam(rn.parameters(),lr=2e-4)\n",
    "criterion = nn.CrossEntropyLoss()"
   ]
  },
  {
   "cell_type": "code",
   "execution_count": null,
   "metadata": {
    "collapsed": false
   },
   "outputs": [],
   "source": [
    "# for validation\n",
    "def validate(rn, val_set):\n",
    "    S, Q, A = from_batch(val_set)\n",
    "    out = rn(S, Q)\n",
    "    O = torch.max(out,1)[1].cpu().data.numpy().squeeze()\n",
    "    score = np.array(O==A,int)\n",
    "    total = len(score)\n",
    "    correct = sum(score)\n",
    "    return total,correct\n",
    "\n",
    "with open('datasets/test_qa1.txt') as f:\n",
    "# with open('test_1,2,3.txt') as f:\n",
    "    val_set=f.readlines()[:batch_size]"
   ]
  },
  {
   "cell_type": "code",
   "execution_count": null,
   "metadata": {
    "collapsed": false,
    "scrolled": false
   },
   "outputs": [],
   "source": [
    "# training\n",
    "# for epoch in range(epochs):\n",
    "for epoch in range(10):\n",
    "    random.shuffle(lines) # shuffle lines\n",
    "    for i in range(num_batches):\n",
    "#     for i in range(5):\n",
    "        opt.zero_grad()\n",
    "#         print(i)\n",
    "        batch = lines[i*batch_size:(i+1)*batch_size]\n",
    "        S,Q,A = from_batch(batch)\n",
    "        out = rn(S,Q)\n",
    "        A = Variable(torch.LongTensor(A))\n",
    "        if torch.cuda.is_available():\n",
    "            A = A.cuda()\n",
    "        loss = criterion(out,A)\n",
    "        loss.backward()\n",
    "        opt.step()\n",
    "        if i % 20==0:\n",
    "            print(\"loss for %d/%d: %1.3f\" % (i,num_batches,loss.data[0]))\n",
    "    print(\"loss for epoch %d: %1.3f\" % (epoch,loss.data[0]))\n",
    "    model_name = 'rn_%d.pth' % (epoch+1+startoff)\n",
    "#     if i % 5==0:\n",
    "#         torch.save(obj=rn,f='saved/'+model_name)\n",
    "    total, correct = validate(rn, val_set)\n",
    "    print(\"Validation score: \",correct*1.0/total)"
   ]
  },
  {
   "cell_type": "code",
   "execution_count": null,
   "metadata": {
    "collapsed": false
   },
   "outputs": [],
   "source": [
    "model_name = 'rn_%d.pth' % (epoch+1)\n",
    "torch.save(obj=rn,f='saved/'+model_name)"
   ]
  },
  {
   "cell_type": "code",
   "execution_count": null,
   "metadata": {
    "collapsed": false
   },
   "outputs": [],
   "source": [
    "# validation\n",
    "# load dataset\n",
    "with open('test.txt') as f:\n",
    "    lines=f.readlines()\n",
    "num_batches = int(len(lines)/batch_size)\n",
    "\n",
    "# load vocabulary\n",
    "word2idx = np.load('word2idx.npy').item()\n",
    "idx2word = np.load('idx2word.npy').item()\n",
    "\n",
    "rn = torch.load('saved/rn_5.pth')\n",
    "if torch.cuda.is_available():\n",
    "    rn = rn.cuda()\n",
    "\n",
    "# for epoch in range(epochs):\n",
    "total = 0\n",
    "correct = 0\n",
    "for epoch in range(1):\n",
    "    random.shuffle(lines) # shuffle lines\n",
    "    for i in range(num_batches):\n",
    "#     for i in range(5):\n",
    "        opt.zero_grad()\n",
    "#         print(i)\n",
    "        batch = lines[i*batch_size:(i+1)*batch_size]\n",
    "        S,Q,A = from_batch(batch)\n",
    "        out = rn(S,Q)\n",
    "        # out : [batch x vocab_size]\n",
    "        O = torch.max(out,1)[1].cpu().data.numpy()\n",
    "        score = np.array(O==A, int)\n",
    "        total+=len(score)\n",
    "        correct+=sum(score)"
   ]
  },
  {
   "cell_type": "code",
   "execution_count": null,
   "metadata": {
    "collapsed": false
   },
   "outputs": [],
   "source": [
    "np.array(O.squeeze() == A,dtype=int)"
   ]
  },
  {
   "cell_type": "code",
   "execution_count": null,
   "metadata": {
    "collapsed": false
   },
   "outputs": [],
   "source": [
    "min(S[1])"
   ]
  },
  {
   "cell_type": "code",
   "execution_count": null,
   "metadata": {
    "collapsed": false
   },
   "outputs": [],
   "source": [
    "sum(S[2])"
   ]
  },
  {
   "cell_type": "code",
   "execution_count": null,
   "metadata": {
    "collapsed": false
   },
   "outputs": [],
   "source": [
    "q"
   ]
  },
  {
   "cell_type": "code",
   "execution_count": null,
   "metadata": {
    "collapsed": false
   },
   "outputs": [],
   "source": [
    "a"
   ]
  },
  {
   "cell_type": "code",
   "execution_count": null,
   "metadata": {
    "collapsed": true
   },
   "outputs": [],
   "source": []
  }
 ],
 "metadata": {
  "anaconda-cloud": {},
  "kernelspec": {
   "display_name": "Python [conda env:pytorch]",
   "language": "python",
   "name": "conda-env-pytorch-py"
  },
  "language_info": {
   "codemirror_mode": {
    "name": "ipython",
    "version": 3
   },
   "file_extension": ".py",
   "mimetype": "text/x-python",
   "name": "python",
   "nbconvert_exporter": "python",
   "pygments_lexer": "ipython3",
   "version": "3.5.2"
  }
 },
 "nbformat": 4,
 "nbformat_minor": 1
}
